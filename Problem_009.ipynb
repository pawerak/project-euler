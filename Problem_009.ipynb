{
 "cells": [
  {
   "cell_type": "markdown",
   "metadata": {},
   "source": [
    "# Problem 9\n",
    "## Special Pythagorean triplet\n",
    "\n",
    "\n",
    "\n",
    "A Pythagorean triplet is a set of three natural numbers, a < b < c, for which,\n",
    "a<sup>2</sup> + b<sup>2</sup> = c<sup>2</sup>\n",
    "\n",
    "For example, 3<sup>2</sup> + 4<sup>2</sup> = 9 + 16 = 25 = 5<sup>2</sup>.\n",
    "\n",
    "There exists exactly one Pythagorean triplet for which a + b + c = 1000.\n",
    "Find the product abc.\n"
   ]
  },
  {
   "cell_type": "markdown",
   "metadata": {},
   "source": [
    "## 1. Project code"
   ]
  },
  {
   "cell_type": "code",
   "execution_count": null,
   "metadata": {},
   "outputs": [],
   "source": [
    "a1 = 0\n",
    "b1 = 0\n",
    "c1 = 0\n",
    "\n",
    "for c in range(3,1000):\n",
    "    if a1**2 + b1**2 == c1**2:      #code to end loop when answer is found\n",
    "        if a1+b1+c1 == 1000:        #code to end loop when answer is found\n",
    "            break                   #code to end loop when answer is found\n",
    "    c1 = c\n",
    "    for b in range(2,c):\n",
    "        if a1**2 + b1**2 == c1**2:  #code to end loop when answer is found\n",
    "            if a1+b1+c1 == 1000:    #code to end loop when answer is found\n",
    "                break               #code to end loop when answer is found\n",
    "        b1 = b\n",
    "        for a in range(1,b):\n",
    "            a1 = a\n",
    "            if a1**2 + b1**2 == c1**2:\n",
    "                if a1+b1+c1 == 1000:\n",
    "                    print(a1*b1*c1)\n",
    "                    break\n",
    "        "
   ]
  }
 ],
 "metadata": {
  "kernelspec": {
   "display_name": "Python 3",
   "language": "python",
   "name": "python3"
  },
  "language_info": {
   "codemirror_mode": {
    "name": "ipython",
    "version": 3
   },
   "file_extension": ".py",
   "mimetype": "text/x-python",
   "name": "python",
   "nbconvert_exporter": "python",
   "pygments_lexer": "ipython3",
   "version": "3.6.10"
  }
 },
 "nbformat": 4,
 "nbformat_minor": 4
}
