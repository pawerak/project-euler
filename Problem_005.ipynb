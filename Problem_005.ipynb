{
 "cells": [
  {
   "cell_type": "markdown",
   "metadata": {},
   "source": [
    "# Problem 5\n",
    "## Smallest multiple\n",
    "\n",
    "2520 is the smallest number that can be divided by each of the numbers from 1 to 10 without any remainder.\n",
    "\n",
    "What is the smallest positive number that is evenly divisible by all of the numbers from 1 to 20?"
   ]
  },
  {
   "cell_type": "markdown",
   "metadata": {},
   "source": [
    "## 1. Project code"
   ]
  },
  {
   "cell_type": "code",
   "execution_count": null,
   "metadata": {},
   "outputs": [],
   "source": [
    "z = True\n",
    "n = 20\n",
    "while z == True:\n",
    "    if n%20==0:\n",
    "        if n%19==0:\n",
    "            if n%18==0:\n",
    "                if n%17==0:\n",
    "                    if n%16==0:\n",
    "                        if n%15==0:\n",
    "                            if n%14==0:\n",
    "                                if n%13==0:\n",
    "                                    if n%12==0:\n",
    "                                        if n%11==0:\n",
    "                                            z = False\n",
    "                                            print(n)\n",
    "    n+=20    "
   ]
  }
 ],
 "metadata": {
  "kernelspec": {
   "display_name": "Python 3",
   "language": "python",
   "name": "python3"
  },
  "language_info": {
   "codemirror_mode": {
    "name": "ipython",
    "version": 3
   },
   "file_extension": ".py",
   "mimetype": "text/x-python",
   "name": "python",
   "nbconvert_exporter": "python",
   "pygments_lexer": "ipython3",
   "version": "3.6.10"
  }
 },
 "nbformat": 4,
 "nbformat_minor": 4
}
