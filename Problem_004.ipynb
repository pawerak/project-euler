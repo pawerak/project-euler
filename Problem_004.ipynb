{
 "cells": [
  {
   "cell_type": "markdown",
   "metadata": {},
   "source": [
    "# Problem 4\n",
    "## Largest palindrome product\n",
    "\n",
    "A palindromic number reads the same both ways. The largest palindrome made from the product of two 2-digit numbers is 9009 = 91 × 99.\n",
    "\n",
    "Find the largest palindrome made from the product of two 3-digit numbers."
   ]
  },
  {
   "cell_type": "markdown",
   "metadata": {},
   "source": [
    "## 1. Project code"
   ]
  },
  {
   "cell_type": "code",
   "execution_count": 4,
   "metadata": {},
   "outputs": [
    {
     "name": "stdout",
     "output_type": "stream",
     "text": [
      "906609\n",
      "CPU times: user 3.33 s, sys: 5.29 ms, total: 3.33 s\n",
      "Wall time: 3.33 s\n"
     ]
    }
   ],
   "source": [
    "%%time\n",
    "palindrome = []\n",
    "maxPalindrome = 0\n",
    "maxPalindromeList = []\n",
    "test = \"\"\n",
    "for i in range(1000,100,-1):\n",
    "    for j in range(1000,100,-1):\n",
    "        number = i*j\n",
    "        if number < 100000:\n",
    "            break\n",
    "        palindrome = list(str(number))\n",
    "        if len(palindrome) == 6:\n",
    "            if palindrome[0] == palindrome[-1] and palindrome[1] == palindrome[-2] and palindrome[2] == palindrome[-3]:\n",
    "                test = \"\"\n",
    "                for item in palindrome:\n",
    "                    test += item\n",
    "                    if int(test) > int(maxPalindrome):\n",
    "                        maxPalindrome = test\n",
    "print(maxPalindrome)"
   ]
  },
  {
   "cell_type": "markdown",
   "metadata": {},
   "source": [
    "2.62 s ± 21.1 ms per loop (mean ± std. dev. of 7 runs, 1 loop each)"
   ]
  }
 ],
 "metadata": {
  "kernelspec": {
   "display_name": "Python 3",
   "language": "python",
   "name": "python3"
  },
  "language_info": {
   "codemirror_mode": {
    "name": "ipython",
    "version": 3
   },
   "file_extension": ".py",
   "mimetype": "text/x-python",
   "name": "python",
   "nbconvert_exporter": "python",
   "pygments_lexer": "ipython3",
   "version": "3.6.10"
  }
 },
 "nbformat": 4,
 "nbformat_minor": 4
}
