{
 "cells": [
  {
   "cell_type": "markdown",
   "metadata": {},
   "source": [
    "# Problem 3\n",
    "\n",
    "The prime factors of 13195 are 5, 7, 13 and 29.\n",
    "\n",
    "What is the largest prime factor of the number 600851475143 ?\n"
   ]
  },
  {
   "cell_type": "markdown",
   "metadata": {},
   "source": [
    "## 1. Example code:\n",
    "### 1.1 Brute force method"
   ]
  },
  {
   "cell_type": "code",
   "execution_count": null,
   "metadata": {},
   "outputs": [],
   "source": [
    "%%time\n",
    "numberExample = 13195\n",
    "listOfPrimes = []\n",
    "#chech if numer is prime\n",
    "for number1 in range(1,numberExample):\n",
    "    isPrime = 0\n",
    "    for number2 in range(1,numberExample):\n",
    "        if number1%number2 == 0:\n",
    "            isPrime = isPrime + 1\n",
    "        if number1 == number2:\n",
    "            if isPrime == 2:\n",
    "                listOfPrimes.append(number1)\n",
    "            break\n",
    "            \n",
    "for item in reversed(listOfPrimes):\n",
    "    if numberExample%item ==0:\n",
    "        print(item)\n",
    "        break"
   ]
  },
  {
   "cell_type": "markdown",
   "metadata": {},
   "source": [
    "CPU times: user 53 s, sys: 291 µs, total: 53 s\n",
    "Wall time: 53.1 s\n",
    "\n",
    "### 1.2 Unique-prime-factorization theorem\n",
    "\n",
    "Every integer greater than 1 either is a prime number itself or can be represented as the product of prime numbers and that, moreover, this representation is unique, up to (except for) the order of the factors"
   ]
  },
  {
   "cell_type": "code",
   "execution_count": null,
   "metadata": {},
   "outputs": [],
   "source": [
    "%%time\n",
    "import math\n",
    "n = 13195\n",
    "nRoot = int(math.sqrt(n))\n",
    "divPrime = 0\n",
    "while n % 2 == 0:\n",
    "    divPrime = 2\n",
    "    n = n/2\n",
    "\n",
    "for i in range(3,nRoot,2):\n",
    "    while n%i == 0:\n",
    "        divPrime = i\n",
    "        n = n / i\n",
    "\n",
    "        \n",
    "print(divPrime)\n",
    "\n"
   ]
  },
  {
   "cell_type": "markdown",
   "metadata": {},
   "source": [
    "CPU times: user 1.37 ms, sys: 0 ns, total: 1.37 ms\n"
   ]
  },
  {
   "cell_type": "markdown",
   "metadata": {},
   "source": [
    "## 2. Project code"
   ]
  },
  {
   "cell_type": "code",
   "execution_count": 1,
   "metadata": {},
   "outputs": [
    {
     "name": "stdout",
     "output_type": "stream",
     "text": [
      "6857\n",
      "CPU times: user 294 ms, sys: 8.05 ms, total: 303 ms\n",
      "Wall time: 300 ms\n"
     ]
    }
   ],
   "source": [
    "%%time\n",
    "import math\n",
    "n = 600851475143\n",
    "nRoot = int(math.sqrt(n))\n",
    "divPrime = 0\n",
    "while n % 2 == 0:\n",
    "    divPrime = 2\n",
    "    n = n/2\n",
    "\n",
    "for i in range(3,nRoot,2):\n",
    "    while n%i == 0:\n",
    "        divPrime = i\n",
    "        n = n / i\n",
    "\n",
    "        \n",
    "print(divPrime)\n",
    "\n"
   ]
  },
  {
   "cell_type": "markdown",
   "metadata": {},
   "source": [
    "CPU times: user 307 ms, sys: 10 ms, total: 317 ms"
   ]
  }
 ],
 "metadata": {
  "kernelspec": {
   "display_name": "Python 3",
   "language": "python",
   "name": "python3"
  },
  "language_info": {
   "codemirror_mode": {
    "name": "ipython",
    "version": 3
   },
   "file_extension": ".py",
   "mimetype": "text/x-python",
   "name": "python",
   "nbconvert_exporter": "python",
   "pygments_lexer": "ipython3",
   "version": "3.6.10"
  }
 },
 "nbformat": 4,
 "nbformat_minor": 4
}
