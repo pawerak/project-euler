{
 "cells": [
  {
   "cell_type": "markdown",
   "metadata": {},
   "source": [
    "# Problem 6\n",
    "## Sum square difference\n",
    "\n",
    "The sum of the squares of the first ten natural numbers is,\n",
    "1<sup>2</sup>+2<sup>2</sup>+...+10<sup>2</sup>=385\n",
    "\n",
    "The square of the sum of the first ten natural numbers is,\n",
    "(1+2+...+10)<sup>2</sup>=55<sup>2</sup>=3025\n",
    "\n",
    "Hence the difference between the sum of the squares of the first ten natural numbers and the square of the sum is 3025−385=2640.\n",
    "\n",
    "Find the difference between the sum of the squares of the first one hundred natural numbers and the square of the sum."
   ]
  },
  {
   "cell_type": "markdown",
   "metadata": {},
   "source": [
    "## 1. Project code"
   ]
  },
  {
   "cell_type": "code",
   "execution_count": 4,
   "metadata": {},
   "outputs": [
    {
     "name": "stdout",
     "output_type": "stream",
     "text": [
      "84.3 µs ± 453 ns per loop (mean ± std. dev. of 7 runs, 10000 loops each)\n"
     ]
    }
   ],
   "source": [
    "%%time\n",
    "sumOfSquares = 0\n",
    "squareOfSum = 0\n",
    "n = 100\n",
    "for i in range(1,n+1):\n",
    "    sumOfSquares += i**2\n",
    "\n",
    "for j in range(1,n+1):\n",
    "    squareOfSum += j\n",
    "\n",
    "x = squareOfSum**2-sumOfSquares\n",
    "print(x)"
   ]
  },
  {
   "cell_type": "markdown",
   "metadata": {},
   "source": [
    "84.3 µs ± 453 ns per loop (mean ± std. dev. of 7 runs, 10000 loops each)"
   ]
  }
 ],
 "metadata": {
  "kernelspec": {
   "display_name": "Python 3",
   "language": "python",
   "name": "python3"
  },
  "language_info": {
   "codemirror_mode": {
    "name": "ipython",
    "version": 3
   },
   "file_extension": ".py",
   "mimetype": "text/x-python",
   "name": "python",
   "nbconvert_exporter": "python",
   "pygments_lexer": "ipython3",
   "version": "3.6.10"
  }
 },
 "nbformat": 4,
 "nbformat_minor": 4
}
