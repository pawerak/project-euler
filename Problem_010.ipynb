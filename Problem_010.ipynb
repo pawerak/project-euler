{
 "cells": [
  {
   "cell_type": "markdown",
   "metadata": {},
   "source": [
    "# Problem 10\n",
    "\n",
    "The sum of the primes below 10 is 2 + 3 + 5 + 7 = 17.\n",
    "\n",
    "Find the sum of all the primes below two million."
   ]
  },
  {
   "cell_type": "markdown",
   "metadata": {},
   "source": [
    "## 1. Example code:\n",
    "For n = 1000\n",
    "### 1.1 Brute force method"
   ]
  },
  {
   "cell_type": "code",
   "execution_count": null,
   "metadata": {},
   "outputs": [],
   "source": [
    "%%time\n",
    "\n",
    "n = 1000\n",
    "listOfPrimes = []\n",
    "#chech if numer is prime\n",
    "for number1 in range(2,n+1):\n",
    "    isPrime = 0\n",
    "    for number2 in range(1,n+1):\n",
    "        if number1%number2 == 0:\n",
    "            isPrime = isPrime + 1\n",
    "        if number1 == number2:\n",
    "            if isPrime == 2:\n",
    "                listOfPrimes.append(number1)\n",
    "            break\n",
    "sum = 0\n",
    "for item in reversed(listOfPrimes):\n",
    "    sum = sum + item\n",
    "\n",
    "f = open(\"untitled.txt\", \"a\")\n",
    "f.write(str(sum)+\"\\n\")\n",
    "f.close()"
   ]
  },
  {
   "cell_type": "markdown",
   "metadata": {},
   "source": [
    "CPU times: user 310 ms, sys: 9.24 ms, total: 320 ms\n",
    "### 1.2 Sieve of Eratosthenes\n",
    "#### 1.2.1 Attempt 1\n"
   ]
  },
  {
   "cell_type": "code",
   "execution_count": null,
   "metadata": {},
   "outputs": [],
   "source": [
    "%%timeit\n",
    "n = 1000\n",
    "nRoot = int(n**(1/2))\n",
    "listOfPrimes = []\n",
    "\n",
    "for i in range(2,n+1):\n",
    "    listOfPrimes.append(i)\n",
    "#print(len(listOfPrimes))\n",
    "#print(listOfPrimes)\n",
    "\n",
    "for i in range(2,n,1):\n",
    "    for j in range(0,n,1):\n",
    "        try:\n",
    "            listOfPrimes.remove(i**2+i*j)\n",
    "        except:\n",
    "            continue\n",
    "#print(len(listOfPrimes))\n",
    "#print(listOfPrimes)\n",
    "\n",
    "sum = 0\n",
    "for item in listOfPrimes:\n",
    "    sum = sum + item\n",
    "print(sum)"
   ]
  },
  {
   "cell_type": "markdown",
   "metadata": {},
   "source": [
    "CPU times: user 466 ms, sys: 1.22 ms, total: 468 ms\n",
    "#### 1.2.2 Attempt 2"
   ]
  },
  {
   "cell_type": "code",
   "execution_count": null,
   "metadata": {},
   "outputs": [],
   "source": [
    "%%time\n",
    "\n",
    "n = 1000\n",
    "nRoot = int(n**(1/2))\n",
    "list = []\n",
    "\n",
    "for i in range(2,n+1):\n",
    "    list.append(i)\n",
    "#print(list)\n",
    "\n",
    "for item in list:\n",
    "    if item !=2 and item%2==0:\n",
    "        list.remove(item)\n",
    "#print(len(list))\n",
    "#print(list)\n",
    "\n",
    "for item in list:\n",
    "    num = 0\n",
    "    for i in range(3,nRoot,2):\n",
    "        n=i\n",
    "        while item%i==0:\n",
    "            num += 1\n",
    "            n=n/i\n",
    "            if num ==2:\n",
    "                list.remove(item)\n",
    "                break\n",
    "            \n",
    "            \n",
    "print(len(list))\n",
    "print(list)\n",
    "total = 0\n",
    "for item in list:\n",
    "    total += item\n",
    "#    print(total)\n",
    "print(total)\n"
   ]
  },
  {
   "cell_type": "markdown",
   "metadata": {},
   "source": [
    "## 2. Project code"
   ]
  },
  {
   "cell_type": "code",
   "execution_count": null,
   "metadata": {},
   "outputs": [],
   "source": [
    "%%time\n",
    "\n",
    "n = 2000000\n",
    "listOfPrimes = []\n",
    "#chech if numer is prime\n",
    "for number1 in range(2,n+1):\n",
    "    isPrime = 0\n",
    "    for number2 in range(1,n+1):\n",
    "        if number1%number2 == 0:\n",
    "            isPrime = isPrime + 1\n",
    "        if number1 == number2:\n",
    "            if isPrime == 2:\n",
    "                listOfPrimes.append(number1)\n",
    "            break\n",
    "sum = 0\n",
    "for item in reversed(listOfPrimes):\n",
    "    sum = sum + item\n",
    "\n",
    "f = open(\"untitled.txt\", \"a\")\n",
    "f.write(str(sum)+\"\\n\")\n",
    "f.close()"
   ]
  },
  {
   "cell_type": "markdown",
   "metadata": {},
   "source": [
    "CPU times: user 307 ms, sys: 10 ms, total: 317 ms"
   ]
  }
 ],
 "metadata": {
  "kernelspec": {
   "display_name": "Python 3",
   "language": "python",
   "name": "python3"
  },
  "language_info": {
   "codemirror_mode": {
    "name": "ipython",
    "version": 3
   },
   "file_extension": ".py",
   "mimetype": "text/x-python",
   "name": "python",
   "nbconvert_exporter": "python",
   "pygments_lexer": "ipython3",
   "version": "3.6.10"
  }
 },
 "nbformat": 4,
 "nbformat_minor": 4
}
