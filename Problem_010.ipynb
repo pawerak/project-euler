{
 "cells": [
  {
   "cell_type": "markdown",
   "metadata": {},
   "source": [
    "# Problem 10\n",
    "\n",
    "The sum of the primes below 10 is 2 + 3 + 5 + 7 = 17.\n",
    "\n",
    "Find the sum of all the primes below two million."
   ]
  },
  {
   "cell_type": "markdown",
   "metadata": {},
   "source": [
    "## 1. Project code"
   ]
  },
  {
   "cell_type": "code",
   "execution_count": null,
   "metadata": {},
   "outputs": [],
   "source": [
    "%%time\n",
    "\n",
    "n = 2000000\n",
    "listOfPrimes = []\n",
    "#chech if numer is prime\n",
    "for number1 in range(2,n+1):\n",
    "    isPrime = 0\n",
    "    for number2 in range(1,n+1):\n",
    "        if number1%number2 == 0:\n",
    "            isPrime = isPrime + 1\n",
    "        if number1 == number2:\n",
    "            if isPrime == 2:\n",
    "                listOfPrimes.append(number1)\n",
    "            break\n",
    "sum = 0\n",
    "for item in reversed(listOfPrimes):\n",
    "    sum = sum + item\n",
    "print(sum)"
   ]
  },
  {
   "cell_type": "markdown",
   "metadata": {},
   "source": [
    "CPU times: user 307 ms, sys: 10 ms, total: 317 ms"
   ]
  }
 ],
 "metadata": {
  "kernelspec": {
   "display_name": "Python 3",
   "language": "python",
   "name": "python3"
  },
  "language_info": {
   "codemirror_mode": {
    "name": "ipython",
    "version": 3
   },
   "file_extension": ".py",
   "mimetype": "text/x-python",
   "name": "python",
   "nbconvert_exporter": "python",
   "pygments_lexer": "ipython3",
   "version": "3.6.10"
  }
 },
 "nbformat": 4,
 "nbformat_minor": 4
}
