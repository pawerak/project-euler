{
 "cells": [
  {
   "cell_type": "markdown",
   "metadata": {},
   "source": [
    "# Problem 3\n",
    "\n",
    "The prime factors of 13195 are 5, 7, 13 and 29.\n",
    "\n",
    "What is the largest prime factor of the number 600851475143?\n"
   ]
  },
  {
   "cell_type": "markdown",
   "metadata": {},
   "source": [
    "## 1. Example code:\n",
    "### 1.1 Brute force method"
   ]
  },
  {
   "cell_type": "code",
   "execution_count": null,
   "metadata": {},
   "outputs": [],
   "source": [
    "numberExample = 13195\n",
    "listOfPrimes = []\n",
    "#chech if numer is prime\n",
    "for number1 in range(1,numberExample):\n",
    "    isPrime = 0\n",
    "    for number2 in range(1,numberExample):\n",
    "        if number1%number2 == 0:\n",
    "            isPrime = isPrime + 1\n",
    "        if number1 == number2:\n",
    "            if isPrime == 2:\n",
    "                listOfPrimes.append(number1)\n",
    "            break\n",
    "            \n",
    "for item in reversed(listOfPrimes):\n",
    "    if numberExample%item ==0:\n",
    "        print(item)\n",
    "        break"
   ]
  },
  {
   "cell_type": "markdown",
   "metadata": {},
   "source": [
    "### 1.2 Unique-prime-factorization theorem\n",
    "\n",
    "Every integer greater than 1 either is a prime number itself or can be represented as the product of prime numbers and that, moreover, this representation is unique, up to (except for) the order of the factors"
   ]
  },
  {
   "cell_type": "code",
   "execution_count": null,
   "metadata": {},
   "outputs": [],
   "source": [
    "import math\n",
    "n = 13195\n",
    "nRoot = int(math.sqrt(n))\n",
    "divPrime = 0\n",
    "while n % 2 == 0:\n",
    "    divPrime = 2\n",
    "    n = n/2\n",
    "\n",
    "for i in range(3,nRoot,2):\n",
    "    while n%i == 0:\n",
    "        divPrime = i\n",
    "        n = n / i\n",
    "\n",
    "        \n",
    "print(divPrime)"
   ]
  },
  {
   "cell_type": "markdown",
   "metadata": {},
   "source": [
    "## 2. Project code"
   ]
  },
  {
   "cell_type": "code",
   "execution_count": null,
   "metadata": {},
   "outputs": [],
   "source": [
    "import math\n",
    "n = 600851475143\n",
    "nRoot = int(math.sqrt(n))\n",
    "divPrime = 0\n",
    "while n % 2 == 0:\n",
    "    divPrime = 2\n",
    "    n = n/2\n",
    "\n",
    "for i in range(3,nRoot,2):\n",
    "    while n%i == 0:\n",
    "        divPrime = i\n",
    "        n = n / i\n",
    "\n",
    "        \n",
    "print(divPrime)"
   ]
  }
 ],
 "metadata": {
  "kernelspec": {
   "display_name": "Python 3",
   "language": "python",
   "name": "python3"
  },
  "language_info": {
   "codemirror_mode": {
    "name": "ipython",
    "version": 3
   },
   "file_extension": ".py",
   "mimetype": "text/x-python",
   "name": "python",
   "nbconvert_exporter": "python",
   "pygments_lexer": "ipython3",
   "version": "3.6.10"
  }
 },
 "nbformat": 4,
 "nbformat_minor": 4
}
