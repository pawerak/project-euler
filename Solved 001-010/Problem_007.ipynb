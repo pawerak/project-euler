{
 "cells": [
  {
   "cell_type": "markdown",
   "metadata": {},
   "source": [
    "# Problem 7\n",
    "## 10001st prime\n",
    "\n",
    "By listing the first six prime numbers: 2, 3, 5, 7, 11, and 13, we can see that the 6th prime is 13.\n",
    "\n",
    "What is the 10 001st prime number?"
   ]
  },
  {
   "cell_type": "markdown",
   "metadata": {},
   "source": [
    "## 1. Project code"
   ]
  },
  {
   "cell_type": "code",
   "execution_count": null,
   "metadata": {},
   "outputs": [],
   "source": [
    "n = 4\n",
    "nRoot = round(int(10**(1/2)))\n",
    "isPrime = True\n",
    "y = 0\n",
    "while isPrime == True:\n",
    "    z = 0\n",
    "    for i in range(2,nRoot+1):\n",
    "        if n % i == 0:\n",
    "            z += 1\n",
    "            if z > 1:\n",
    "                isPrime = False\n",
    "                print(\"%s nie jest liczbą pierwszą\" % n)\n",
    "    y += 1\n",
    "    if y == 1:\n",
    "        isPrime = False\n",
    "print(\"%s jest liczbą pierwszą\" % n)"
   ]
  }
 ],
 "metadata": {
  "kernelspec": {
   "display_name": "Python 3",
   "language": "python",
   "name": "python3"
  },
  "language_info": {
   "codemirror_mode": {
    "name": "ipython",
    "version": 3
   },
   "file_extension": ".py",
   "mimetype": "text/x-python",
   "name": "python",
   "nbconvert_exporter": "python",
   "pygments_lexer": "ipython3",
   "version": "3.6.10"
  }
 },
 "nbformat": 4,
 "nbformat_minor": 4
}
